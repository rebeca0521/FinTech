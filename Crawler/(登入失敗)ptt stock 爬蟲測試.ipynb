{
 "cells": [
  {
   "cell_type": "code",
   "execution_count": 1,
   "metadata": {},
   "outputs": [
    {
     "name": "stdout",
     "output_type": "stream",
     "text": [
      "Collecting PyPtt\n",
      "  Downloading PyPtt-0.9.15.tar.gz (55 kB)\n",
      "\u001b[K     |████████████████████████████████| 55 kB 176 kB/s eta 0:00:011\n",
      "\u001b[?25hCollecting progressbar2\n",
      "  Downloading progressbar2-3.51.3-py2.py3-none-any.whl (51 kB)\n",
      "\u001b[K     |████████████████████████████████| 51 kB 231 kB/s eta 0:00:011\n",
      "\u001b[?25hCollecting websockets\n",
      "  Downloading websockets-8.1-cp37-cp37m-macosx_10_6_intel.whl (66 kB)\n",
      "\u001b[K     |████████████████████████████████| 66 kB 872 kB/s eta 0:00:01\n",
      "\u001b[?25hCollecting uao\n",
      "  Downloading uao-0.1.1-py3-none-any.whl (230 kB)\n",
      "\u001b[K     |████████████████████████████████| 230 kB 1.5 MB/s eta 0:00:01\n",
      "\u001b[?25hRequirement already satisfied: beautifulsoup4 in /Users/Rebeca/opt/anaconda3/lib/python3.7/site-packages (from PyPtt) (4.8.2)\n",
      "Requirement already satisfied: requests in /Users/Rebeca/opt/anaconda3/lib/python3.7/site-packages (from PyPtt) (2.22.0)\n",
      "Requirement already satisfied: six in /Users/Rebeca/opt/anaconda3/lib/python3.7/site-packages (from progressbar2->PyPtt) (1.14.0)\n",
      "Collecting python-utils>=2.3.0\n",
      "  Downloading python_utils-2.4.0-py2.py3-none-any.whl (12 kB)\n",
      "Requirement already satisfied: soupsieve>=1.2 in /Users/Rebeca/opt/anaconda3/lib/python3.7/site-packages (from beautifulsoup4->PyPtt) (1.9.5)\n",
      "Requirement already satisfied: chardet<3.1.0,>=3.0.2 in /Users/Rebeca/opt/anaconda3/lib/python3.7/site-packages (from requests->PyPtt) (3.0.4)\n",
      "Requirement already satisfied: urllib3!=1.25.0,!=1.25.1,<1.26,>=1.21.1 in /Users/Rebeca/opt/anaconda3/lib/python3.7/site-packages (from requests->PyPtt) (1.25.8)\n",
      "Requirement already satisfied: idna<2.9,>=2.5 in /Users/Rebeca/opt/anaconda3/lib/python3.7/site-packages (from requests->PyPtt) (2.8)\n",
      "Requirement already satisfied: certifi>=2017.4.17 in /Users/Rebeca/opt/anaconda3/lib/python3.7/site-packages (from requests->PyPtt) (2019.11.28)\n",
      "Building wheels for collected packages: PyPtt\n",
      "  Building wheel for PyPtt (setup.py) ... \u001b[?25ldone\n",
      "\u001b[?25h  Created wheel for PyPtt: filename=PyPtt-0.9.15-py3-none-any.whl size=66867 sha256=1197a7c6be5ae7cf196d1cecc823a25532fa8be1d00791891508d6d36fdb59e0\n",
      "  Stored in directory: /Users/Rebeca/Library/Caches/pip/wheels/a6/50/10/01036d82cdfcc9640f7b07a366441dbc59d50a7c382f6163d6\n",
      "Successfully built PyPtt\n",
      "Installing collected packages: python-utils, progressbar2, websockets, uao, PyPtt\n",
      "Successfully installed PyPtt-0.9.15 progressbar2-3.51.3 python-utils-2.4.0 uao-0.1.1 websockets-8.1\n",
      "Note: you may need to restart the kernel to use updated packages.\n"
     ]
    }
   ],
   "source": [
    "pip install PyPtt"
   ]
  },
  {
   "cell_type": "markdown",
   "metadata": {},
   "source": [
    "### 初始化物件的方式"
   ]
  },
  {
   "cell_type": "code",
   "execution_count": 3,
   "metadata": {},
   "outputs": [
    {
     "name": "stdout",
     "output_type": "stream",
     "text": [
      "PyPtt v 0.9.15\n",
      "Developed by CodingMan\n",
      "[0508 15:48:26][資訊] 繁體中文語言模組 [初始化]\n",
      "[0508 15:48:26][資訊] 連線主機 [批踢踢]\n",
      "[0508 15:48:26][資訊] 連線核心 [初始化]\n",
      "[0508 15:48:26][資訊] PyPtt v 0.9.15 [初始化]\n"
     ]
    }
   ],
   "source": [
    "from PyPtt import PTT\n",
    "ptt_bot = PTT.API()"
   ]
  },
  {
   "cell_type": "markdown",
   "metadata": {},
   "source": [
    "### 改變語言顯示的需求"
   ]
  },
  {
   "cell_type": "code",
   "execution_count": 4,
   "metadata": {},
   "outputs": [
    {
     "name": "stdout",
     "output_type": "stream",
     "text": [
      "PyPtt v 0.9.15\n",
      "Developed by CodingMan\n",
      "[0508 15:56:53][INFO] English language Module [initialize]\n",
      "[0508 15:56:53][INFO] Connect host [PTT]\n",
      "[0508 15:56:53][INFO] Connect Core [initialize]\n",
      "[0508 15:56:53][INFO] PyPtt v 0.9.15 [initialize]\n"
     ]
    }
   ],
   "source": [
    "ptt_bot = PTT.API(\n",
    "    # (預設值) Chinese\n",
    "    # language=PTT.i18n.language.CHINESE,\n",
    "    language = PTT.i18n.language.ENGLISH,\n",
    ")"
   ]
  },
  {
   "cell_type": "markdown",
   "metadata": {},
   "source": [
    "### 修改 Log 等級方便回報錯誤"
   ]
  },
  {
   "cell_type": "code",
   "execution_count": 5,
   "metadata": {},
   "outputs": [
    {
     "name": "stdout",
     "output_type": "stream",
     "text": [
      "PyPtt v 0.9.15\n",
      "Developed by CodingMan\n",
      "[0508 15:58:37][資訊] 繁體中文語言模組 [初始化]\n",
      "[0508 15:58:37][資訊] 連線主機 [批踢踢]\n",
      "[0508 15:58:37][資訊] 連線核心 [初始化]\n",
      "[0508 15:58:37][除錯] ThreadID [4594875840]\n",
      "[0508 15:58:37][資訊] PyPtt v 0.9.15 [初始化]\n"
     ]
    }
   ],
   "source": [
    "ptt_bot = PTT.API(\n",
    "    # (預設值) INFO\n",
    "    # log_level=PTT.log.level.INFO,\n",
    "    # log_level=PTT.log.level.DEBUG,\n",
    "    log_level=PTT.log.level.TRACE,\n",
    ")"
   ]
  },
  {
   "cell_type": "markdown",
   "metadata": {},
   "source": [
    "### 登入登出"
   ]
  },
  {
   "cell_type": "code",
   "execution_count": 14,
   "metadata": {},
   "outputs": [
    {
     "name": "stdout",
     "output_type": "stream",
     "text": [
      "PyPtt v 0.9.15\n",
      "Developed by CodingMan\n",
      "[0508 16:39:20][資訊] 繁體中文語言模組 [初始化]\n",
      "[0508 16:39:20][資訊] 連線主機 [批踢踢]\n",
      "[0508 16:39:20][資訊] 連線核心 [初始化]\n",
      "[0508 16:39:20][資訊] PyPtt v 0.9.15 [初始化]\n",
      "[0508 16:39:20][資訊] 連線核心 [啟動]\n",
      "[0508 16:39:20][資訊] 連線模式 [WebSocket]\n",
      "This event loop is already running\n",
      "[0508 16:39:20][資訊] 連線批踢踢 [失敗]\n",
      "[0508 16:39:20][資訊] 準備重新連線批踢踢 [3]\n"
     ]
    },
    {
     "name": "stderr",
     "output_type": "stream",
     "text": [
      "  File \"/Users/Rebeca/opt/anaconda3/lib/python3.7/site-packages/PyPtt/connect_core.py\", line 225, in connect\n",
      "    origin='https://term.ptt.cc'\n",
      "  File \"/Users/Rebeca/opt/anaconda3/lib/python3.7/asyncio/base_events.py\", line 570, in run_until_complete\n",
      "    self.run_forever()\n",
      "  File \"/Users/Rebeca/opt/anaconda3/lib/python3.7/asyncio/base_events.py\", line 525, in run_forever\n",
      "    raise RuntimeError('This event loop is already running')\n"
     ]
    },
    {
     "name": "stdout",
     "output_type": "stream",
     "text": [
      "[0508 16:39:21][資訊] 準備重新連線批踢踢 [2]\n",
      "[0508 16:39:22][資訊] 準備重新連線批踢踢 [1]\n"
     ]
    },
    {
     "name": "stderr",
     "output_type": "stream",
     "text": [
      "  File \"/Users/Rebeca/opt/anaconda3/lib/python3.7/site-packages/PyPtt/connect_core.py\", line 225, in connect\n",
      "    origin='https://term.ptt.cc'\n",
      "  File \"/Users/Rebeca/opt/anaconda3/lib/python3.7/asyncio/base_events.py\", line 570, in run_until_complete\n",
      "    self.run_forever()\n",
      "  File \"/Users/Rebeca/opt/anaconda3/lib/python3.7/asyncio/base_events.py\", line 525, in run_forever\n",
      "    raise RuntimeError('This event loop is already running')\n"
     ]
    },
    {
     "name": "stdout",
     "output_type": "stream",
     "text": [
      "This event loop is already running\n",
      "[0508 16:39:23][資訊] 連線批踢踢 [失敗]\n",
      "[0508 16:39:23][資訊] 準備重新連線批踢踢 [3]\n",
      "[0508 16:39:24][資訊] 準備重新連線批踢踢 [2]\n",
      "[0508 16:39:25][資訊] 準備重新連線批踢踢 [1]\n"
     ]
    },
    {
     "ename": "ConnectError",
     "evalue": "連線失敗",
     "output_type": "error",
     "traceback": [
      "\u001b[0;31m---------------------------------------------------------------------------\u001b[0m",
      "\u001b[0;31mConnectError\u001b[0m                              Traceback (most recent call last)",
      "\u001b[0;32m<ipython-input-14-3925e2c9fdb4>\u001b[0m in \u001b[0;36m<module>\u001b[0;34m\u001b[0m\n\u001b[1;32m      4\u001b[0m \u001b[0mptt_bot\u001b[0m \u001b[0;34m=\u001b[0m \u001b[0mPTT\u001b[0m\u001b[0;34m.\u001b[0m\u001b[0mAPI\u001b[0m\u001b[0;34m(\u001b[0m\u001b[0;34m)\u001b[0m\u001b[0;34m\u001b[0m\u001b[0;34m\u001b[0m\u001b[0m\n\u001b[1;32m      5\u001b[0m \u001b[0;32mtry\u001b[0m\u001b[0;34m:\u001b[0m\u001b[0;34m\u001b[0m\u001b[0;34m\u001b[0m\u001b[0m\n\u001b[0;32m----> 6\u001b[0;31m     \u001b[0mptt_bot\u001b[0m\u001b[0;34m.\u001b[0m\u001b[0mlogin\u001b[0m\u001b[0;34m(\u001b[0m\u001b[0;34m'a09880521'\u001b[0m\u001b[0;34m,\u001b[0m \u001b[0;34m'r1783256'\u001b[0m\u001b[0;34m)\u001b[0m\u001b[0;34m\u001b[0m\u001b[0;34m\u001b[0m\u001b[0m\n\u001b[0m\u001b[1;32m      7\u001b[0m \u001b[0;32mexcept\u001b[0m \u001b[0mPTT\u001b[0m\u001b[0;34m.\u001b[0m\u001b[0mexceptions\u001b[0m\u001b[0;34m.\u001b[0m\u001b[0mLoginError\u001b[0m\u001b[0;34m:\u001b[0m\u001b[0;34m\u001b[0m\u001b[0;34m\u001b[0m\u001b[0m\n\u001b[1;32m      8\u001b[0m     \u001b[0mptt_bot\u001b[0m\u001b[0;34m.\u001b[0m\u001b[0mlog\u001b[0m\u001b[0;34m(\u001b[0m\u001b[0;34m'登入失敗'\u001b[0m\u001b[0;34m)\u001b[0m\u001b[0;34m\u001b[0m\u001b[0;34m\u001b[0m\u001b[0m\n",
      "\u001b[0;32m~/opt/anaconda3/lib/python3.7/site-packages/PyPtt/PTT.py\u001b[0m in \u001b[0;36mlogin\u001b[0;34m(self, ptt_id, password, kick_other_login)\u001b[0m\n\u001b[1;32m    273\u001b[0m                 \u001b[0mptt_id\u001b[0m\u001b[0;34m,\u001b[0m\u001b[0;34m\u001b[0m\u001b[0;34m\u001b[0m\u001b[0m\n\u001b[1;32m    274\u001b[0m                 \u001b[0mpassword\u001b[0m\u001b[0;34m,\u001b[0m\u001b[0;34m\u001b[0m\u001b[0;34m\u001b[0m\u001b[0m\n\u001b[0;32m--> 275\u001b[0;31m                 \u001b[0mkick_other_login\u001b[0m\u001b[0;34m=\u001b[0m\u001b[0mkick_other_login\u001b[0m\u001b[0;34m\u001b[0m\u001b[0;34m\u001b[0m\u001b[0m\n\u001b[0m\u001b[1;32m    276\u001b[0m             )\n\u001b[1;32m    277\u001b[0m         \u001b[0;32mexcept\u001b[0m \u001b[0mexceptions\u001b[0m\u001b[0;34m.\u001b[0m\u001b[0mLoginError\u001b[0m\u001b[0;34m:\u001b[0m\u001b[0;34m\u001b[0m\u001b[0;34m\u001b[0m\u001b[0m\n",
      "\u001b[0;32m~/opt/anaconda3/lib/python3.7/site-packages/PyPtt/PTT.py\u001b[0m in \u001b[0;36m_login\u001b[0;34m(self, ptt_id, password, kick_other_login)\u001b[0m\n\u001b[1;32m    254\u001b[0m             \u001b[0mptt_id\u001b[0m\u001b[0;34m,\u001b[0m\u001b[0;34m\u001b[0m\u001b[0;34m\u001b[0m\u001b[0m\n\u001b[1;32m    255\u001b[0m             \u001b[0mpassword\u001b[0m\u001b[0;34m,\u001b[0m\u001b[0;34m\u001b[0m\u001b[0;34m\u001b[0m\u001b[0m\n\u001b[0;32m--> 256\u001b[0;31m             kick_other_login)\n\u001b[0m\u001b[1;32m    257\u001b[0m \u001b[0;34m\u001b[0m\u001b[0m\n\u001b[1;32m    258\u001b[0m     def login(\n",
      "\u001b[0;32m~/opt/anaconda3/lib/python3.7/site-packages/PyPtt/_api_loginout.py\u001b[0m in \u001b[0;36mlogin\u001b[0;34m(api, ptt_id, password, kick_other_login)\u001b[0m\n\u001b[1;32m    114\u001b[0m     \u001b[0mapi\u001b[0m\u001b[0;34m.\u001b[0m\u001b[0mconfig\u001b[0m\u001b[0;34m.\u001b[0m\u001b[0mkick_other_login\u001b[0m \u001b[0;34m=\u001b[0m \u001b[0mkick_other_login\u001b[0m\u001b[0;34m\u001b[0m\u001b[0;34m\u001b[0m\u001b[0m\n\u001b[1;32m    115\u001b[0m \u001b[0;34m\u001b[0m\u001b[0m\n\u001b[0;32m--> 116\u001b[0;31m     \u001b[0mapi\u001b[0m\u001b[0;34m.\u001b[0m\u001b[0mconnect_core\u001b[0m\u001b[0;34m.\u001b[0m\u001b[0mconnect\u001b[0m\u001b[0;34m(\u001b[0m\u001b[0;34m)\u001b[0m\u001b[0;34m\u001b[0m\u001b[0;34m\u001b[0m\u001b[0m\n\u001b[0m\u001b[1;32m    117\u001b[0m \u001b[0;34m\u001b[0m\u001b[0m\n\u001b[1;32m    118\u001b[0m     log.show_value(\n",
      "\u001b[0;32m~/opt/anaconda3/lib/python3.7/site-packages/PyPtt/connect_core.py\u001b[0m in \u001b[0;36mconnect\u001b[0;34m(self)\u001b[0m\n\u001b[1;32m    267\u001b[0m \u001b[0;34m\u001b[0m\u001b[0m\n\u001b[1;32m    268\u001b[0m         \u001b[0;32mif\u001b[0m \u001b[0;32mnot\u001b[0m \u001b[0mconnect_success\u001b[0m\u001b[0;34m:\u001b[0m\u001b[0;34m\u001b[0m\u001b[0;34m\u001b[0m\u001b[0m\n\u001b[0;32m--> 269\u001b[0;31m             \u001b[0;32mraise\u001b[0m \u001b[0mexceptions\u001b[0m\u001b[0;34m.\u001b[0m\u001b[0mConnectError\u001b[0m\u001b[0;34m(\u001b[0m\u001b[0mself\u001b[0m\u001b[0;34m.\u001b[0m\u001b[0mconfig\u001b[0m\u001b[0;34m)\u001b[0m\u001b[0;34m\u001b[0m\u001b[0;34m\u001b[0m\u001b[0m\n\u001b[0m\u001b[1;32m    270\u001b[0m \u001b[0;34m\u001b[0m\u001b[0m\n\u001b[1;32m    271\u001b[0m     def send(\n",
      "\u001b[0;31mConnectError\u001b[0m: 連線失敗"
     ]
    }
   ],
   "source": [
    "import sys\n",
    "from PyPtt import PTT\n",
    "\n",
    "ptt_bot = PTT.API()\n",
    "try:\n",
    "    ptt_bot.login('a09880521', 'r1783256')\n",
    "except PTT.exceptions.LoginError:\n",
    "    ptt_bot.log('登入失敗')\n",
    "    sys.exit()\n",
    "except PTT.exceptions.WrongIDorPassword:\n",
    "    ptt_bot.log('帳號密碼錯誤')\n",
    "    sys.exit()\n",
    "except PTT.exceptions.LoginTooOften:\n",
    "    ptt_bot.log('請稍等一下再登入')\n",
    "    sys.exit()\n",
    "ptt_bot.log('登入成功')\n",
    "\n",
    "if ptt_bot.unregistered_user:\n",
    "    print('未註冊使用者')\n",
    "\n",
    "    if ptt_bot.process_picks != 0:\n",
    "        print(f'註冊單處理順位 {ptt_bot.process_picks}')\n",
    "\n",
    "if ptt_bot.registered_user:\n",
    "    print('已註冊使用者')\n",
    "\n",
    "# call ptt_bot other api\n",
    "\n",
    "ptt_bot.logout()"
   ]
  },
  {
   "cell_type": "code",
   "execution_count": null,
   "metadata": {},
   "outputs": [],
   "source": []
  },
  {
   "cell_type": "code",
   "execution_count": 16,
   "metadata": {},
   "outputs": [
    {
     "name": "stdout",
     "output_type": "stream",
     "text": [
      "PyPtt v 0.9.15\n",
      "Developed by CodingMan\n",
      "[0508 16:41:07][資訊] 繁體中文語言模組 [初始化]\n",
      "[0508 16:41:07][資訊] 連線主機 [批踢踢]\n",
      "[0508 16:41:07][資訊] 連線核心 [初始化]\n",
      "[0508 16:41:07][資訊] PyPtt v 0.9.15 [初始化]\n",
      "[0508 16:41:07][資訊] 連線核心 [啟動]\n",
      "[0508 16:41:07][資訊] 連線模式 [WebSocket]\n",
      "This event loop is already running\n",
      "[0508 16:41:07][資訊] 連線批踢踢 [失敗]\n",
      "[0508 16:41:07][資訊] 準備重新連線批踢踢 [3]\n"
     ]
    },
    {
     "name": "stderr",
     "output_type": "stream",
     "text": [
      "  File \"/Users/Rebeca/opt/anaconda3/lib/python3.7/site-packages/PyPtt/connect_core.py\", line 225, in connect\n",
      "    origin='https://term.ptt.cc'\n",
      "  File \"/Users/Rebeca/opt/anaconda3/lib/python3.7/asyncio/base_events.py\", line 570, in run_until_complete\n",
      "    self.run_forever()\n",
      "  File \"/Users/Rebeca/opt/anaconda3/lib/python3.7/asyncio/base_events.py\", line 525, in run_forever\n",
      "    raise RuntimeError('This event loop is already running')\n"
     ]
    },
    {
     "name": "stdout",
     "output_type": "stream",
     "text": [
      "[0508 16:41:08][資訊] 準備重新連線批踢踢 [2]\n",
      "[0508 16:41:09][資訊] 準備重新連線批踢踢 [1]\n"
     ]
    },
    {
     "name": "stderr",
     "output_type": "stream",
     "text": [
      "  File \"/Users/Rebeca/opt/anaconda3/lib/python3.7/site-packages/PyPtt/connect_core.py\", line 225, in connect\n",
      "    origin='https://term.ptt.cc'\n",
      "  File \"/Users/Rebeca/opt/anaconda3/lib/python3.7/asyncio/base_events.py\", line 570, in run_until_complete\n",
      "    self.run_forever()\n",
      "  File \"/Users/Rebeca/opt/anaconda3/lib/python3.7/asyncio/base_events.py\", line 525, in run_forever\n",
      "    raise RuntimeError('This event loop is already running')\n"
     ]
    },
    {
     "name": "stdout",
     "output_type": "stream",
     "text": [
      "This event loop is already running\n",
      "[0508 16:41:10][資訊] 連線批踢踢 [失敗]\n",
      "[0508 16:41:10][資訊] 準備重新連線批踢踢 [3]\n",
      "[0508 16:41:11][資訊] 準備重新連線批踢踢 [2]\n",
      "[0508 16:41:12][資訊] 準備重新連線批踢踢 [1]\n"
     ]
    },
    {
     "ename": "ConnectError",
     "evalue": "連線失敗",
     "output_type": "error",
     "traceback": [
      "\u001b[0;31m---------------------------------------------------------------------------\u001b[0m",
      "\u001b[0;31mConnectError\u001b[0m                              Traceback (most recent call last)",
      "\u001b[0;32m<ipython-input-16-2f0708a6a721>\u001b[0m in \u001b[0;36m<module>\u001b[0;34m\u001b[0m\n\u001b[1;32m      7\u001b[0m         \u001b[0;34m'a098805621'\u001b[0m\u001b[0;34m,\u001b[0m\u001b[0;34m\u001b[0m\u001b[0;34m\u001b[0m\u001b[0m\n\u001b[1;32m      8\u001b[0m         \u001b[0;34m'r1783256'\u001b[0m\u001b[0;34m,\u001b[0m\u001b[0;34m\u001b[0m\u001b[0;34m\u001b[0m\u001b[0m\n\u001b[0;32m----> 9\u001b[0;31m         \u001b[0mkick_other_login\u001b[0m\u001b[0;34m=\u001b[0m\u001b[0;32mTrue\u001b[0m\u001b[0;34m\u001b[0m\u001b[0;34m\u001b[0m\u001b[0m\n\u001b[0m\u001b[1;32m     10\u001b[0m     )\n\u001b[1;32m     11\u001b[0m \u001b[0;32mexcept\u001b[0m \u001b[0mPTT\u001b[0m\u001b[0;34m.\u001b[0m\u001b[0mexceptions\u001b[0m\u001b[0;34m.\u001b[0m\u001b[0mLoginError\u001b[0m\u001b[0;34m:\u001b[0m\u001b[0;34m\u001b[0m\u001b[0;34m\u001b[0m\u001b[0m\n",
      "\u001b[0;32m~/opt/anaconda3/lib/python3.7/site-packages/PyPtt/PTT.py\u001b[0m in \u001b[0;36mlogin\u001b[0;34m(self, ptt_id, password, kick_other_login)\u001b[0m\n\u001b[1;32m    273\u001b[0m                 \u001b[0mptt_id\u001b[0m\u001b[0;34m,\u001b[0m\u001b[0;34m\u001b[0m\u001b[0;34m\u001b[0m\u001b[0m\n\u001b[1;32m    274\u001b[0m                 \u001b[0mpassword\u001b[0m\u001b[0;34m,\u001b[0m\u001b[0;34m\u001b[0m\u001b[0;34m\u001b[0m\u001b[0m\n\u001b[0;32m--> 275\u001b[0;31m                 \u001b[0mkick_other_login\u001b[0m\u001b[0;34m=\u001b[0m\u001b[0mkick_other_login\u001b[0m\u001b[0;34m\u001b[0m\u001b[0;34m\u001b[0m\u001b[0m\n\u001b[0m\u001b[1;32m    276\u001b[0m             )\n\u001b[1;32m    277\u001b[0m         \u001b[0;32mexcept\u001b[0m \u001b[0mexceptions\u001b[0m\u001b[0;34m.\u001b[0m\u001b[0mLoginError\u001b[0m\u001b[0;34m:\u001b[0m\u001b[0;34m\u001b[0m\u001b[0;34m\u001b[0m\u001b[0m\n",
      "\u001b[0;32m~/opt/anaconda3/lib/python3.7/site-packages/PyPtt/PTT.py\u001b[0m in \u001b[0;36m_login\u001b[0;34m(self, ptt_id, password, kick_other_login)\u001b[0m\n\u001b[1;32m    254\u001b[0m             \u001b[0mptt_id\u001b[0m\u001b[0;34m,\u001b[0m\u001b[0;34m\u001b[0m\u001b[0;34m\u001b[0m\u001b[0m\n\u001b[1;32m    255\u001b[0m             \u001b[0mpassword\u001b[0m\u001b[0;34m,\u001b[0m\u001b[0;34m\u001b[0m\u001b[0;34m\u001b[0m\u001b[0m\n\u001b[0;32m--> 256\u001b[0;31m             kick_other_login)\n\u001b[0m\u001b[1;32m    257\u001b[0m \u001b[0;34m\u001b[0m\u001b[0m\n\u001b[1;32m    258\u001b[0m     def login(\n",
      "\u001b[0;32m~/opt/anaconda3/lib/python3.7/site-packages/PyPtt/_api_loginout.py\u001b[0m in \u001b[0;36mlogin\u001b[0;34m(api, ptt_id, password, kick_other_login)\u001b[0m\n\u001b[1;32m    114\u001b[0m     \u001b[0mapi\u001b[0m\u001b[0;34m.\u001b[0m\u001b[0mconfig\u001b[0m\u001b[0;34m.\u001b[0m\u001b[0mkick_other_login\u001b[0m \u001b[0;34m=\u001b[0m \u001b[0mkick_other_login\u001b[0m\u001b[0;34m\u001b[0m\u001b[0;34m\u001b[0m\u001b[0m\n\u001b[1;32m    115\u001b[0m \u001b[0;34m\u001b[0m\u001b[0m\n\u001b[0;32m--> 116\u001b[0;31m     \u001b[0mapi\u001b[0m\u001b[0;34m.\u001b[0m\u001b[0mconnect_core\u001b[0m\u001b[0;34m.\u001b[0m\u001b[0mconnect\u001b[0m\u001b[0;34m(\u001b[0m\u001b[0;34m)\u001b[0m\u001b[0;34m\u001b[0m\u001b[0;34m\u001b[0m\u001b[0m\n\u001b[0m\u001b[1;32m    117\u001b[0m \u001b[0;34m\u001b[0m\u001b[0m\n\u001b[1;32m    118\u001b[0m     log.show_value(\n",
      "\u001b[0;32m~/opt/anaconda3/lib/python3.7/site-packages/PyPtt/connect_core.py\u001b[0m in \u001b[0;36mconnect\u001b[0;34m(self)\u001b[0m\n\u001b[1;32m    267\u001b[0m \u001b[0;34m\u001b[0m\u001b[0m\n\u001b[1;32m    268\u001b[0m         \u001b[0;32mif\u001b[0m \u001b[0;32mnot\u001b[0m \u001b[0mconnect_success\u001b[0m\u001b[0;34m:\u001b[0m\u001b[0;34m\u001b[0m\u001b[0;34m\u001b[0m\u001b[0m\n\u001b[0;32m--> 269\u001b[0;31m             \u001b[0;32mraise\u001b[0m \u001b[0mexceptions\u001b[0m\u001b[0;34m.\u001b[0m\u001b[0mConnectError\u001b[0m\u001b[0;34m(\u001b[0m\u001b[0mself\u001b[0m\u001b[0;34m.\u001b[0m\u001b[0mconfig\u001b[0m\u001b[0;34m)\u001b[0m\u001b[0;34m\u001b[0m\u001b[0;34m\u001b[0m\u001b[0m\n\u001b[0m\u001b[1;32m    270\u001b[0m \u001b[0;34m\u001b[0m\u001b[0m\n\u001b[1;32m    271\u001b[0m     def send(\n",
      "\u001b[0;31mConnectError\u001b[0m: 連線失敗"
     ]
    }
   ],
   "source": [
    "import sys\n",
    "from PyPtt import PTT\n",
    "\n",
    "ptt_bot = PTT.API()\n",
    "try:\n",
    "    ptt_bot.login(\n",
    "        'a098805621',\n",
    "        'r1783256',\n",
    "        kick_other_login=True\n",
    "    )\n",
    "except PTT.exceptions.LoginError:\n",
    "    ptt_bot.log('登入失敗')\n",
    "    sys.exit()\n",
    "except PTT.exceptions.WrongIDorPassword:\n",
    "    ptt_bot.log('帳號密碼錯誤')\n",
    "    sys.exit()\n",
    "except PTT.exceptions.LoginTooOften:\n",
    "    ptt_bot.log('請稍等一下再登入')\n",
    "    sys.exit()\n",
    "ptt_bot.log('登入成功')\n",
    "\n",
    "# call ptt_bot other api\n",
    "\n",
    "ptt_bot.logout()"
   ]
  },
  {
   "cell_type": "code",
   "execution_count": null,
   "metadata": {},
   "outputs": [],
   "source": []
  },
  {
   "cell_type": "code",
   "execution_count": 6,
   "metadata": {},
   "outputs": [
    {
     "ename": "Requirelogin",
     "evalue": "請先登入",
     "output_type": "error",
     "traceback": [
      "\u001b[0;31m---------------------------------------------------------------------------\u001b[0m",
      "\u001b[0;31mRequirelogin\u001b[0m                              Traceback (most recent call last)",
      "\u001b[0;32m<ipython-input-6-85f52d7cd917>\u001b[0m in \u001b[0;36m<module>\u001b[0;34m\u001b[0m\n\u001b[1;32m     18\u001b[0m newest_index = ptt_bot.get_newest_index(\n\u001b[1;32m     19\u001b[0m     \u001b[0mPTT\u001b[0m\u001b[0;34m.\u001b[0m\u001b[0mdata_type\u001b[0m\u001b[0;34m.\u001b[0m\u001b[0mindex_type\u001b[0m\u001b[0;34m.\u001b[0m\u001b[0mBBS\u001b[0m\u001b[0;34m,\u001b[0m\u001b[0;34m\u001b[0m\u001b[0;34m\u001b[0m\u001b[0m\n\u001b[0;32m---> 20\u001b[0;31m     \u001b[0mboard\u001b[0m\u001b[0;34m=\u001b[0m\u001b[0mtest_board\u001b[0m\u001b[0;34m\u001b[0m\u001b[0;34m\u001b[0m\u001b[0m\n\u001b[0m\u001b[1;32m     21\u001b[0m )\n\u001b[1;32m     22\u001b[0m \u001b[0mstart_index\u001b[0m \u001b[0;34m=\u001b[0m \u001b[0mnewest_index\u001b[0m \u001b[0;34m-\u001b[0m \u001b[0mtest_range\u001b[0m \u001b[0;34m+\u001b[0m \u001b[0;36m1\u001b[0m\u001b[0;34m\u001b[0m\u001b[0;34m\u001b[0m\u001b[0m\n",
      "\u001b[0;32m~/opt/anaconda3/lib/python3.7/site-packages/PyPtt/PTT.py\u001b[0m in \u001b[0;36mget_newest_index\u001b[0;34m(self, index_type, board, search_type, search_condition)\u001b[0m\n\u001b[1;32m    545\u001b[0m         \u001b[0;32mif\u001b[0m \u001b[0mindex_type\u001b[0m \u001b[0;34m==\u001b[0m \u001b[0mdata_type\u001b[0m\u001b[0;34m.\u001b[0m\u001b[0mindex_type\u001b[0m\u001b[0;34m.\u001b[0m\u001b[0mBBS\u001b[0m \u001b[0;32mor\u001b[0m \u001b[0mindex_type\u001b[0m \u001b[0;34m==\u001b[0m \u001b[0mdata_type\u001b[0m\u001b[0;34m.\u001b[0m\u001b[0mindex_type\u001b[0m\u001b[0;34m.\u001b[0m\u001b[0mMAIL\u001b[0m\u001b[0;34m:\u001b[0m\u001b[0;34m\u001b[0m\u001b[0;34m\u001b[0m\u001b[0m\n\u001b[1;32m    546\u001b[0m             \u001b[0;32mif\u001b[0m \u001b[0;32mnot\u001b[0m \u001b[0mself\u001b[0m\u001b[0;34m.\u001b[0m\u001b[0m_login_status\u001b[0m\u001b[0;34m:\u001b[0m\u001b[0;34m\u001b[0m\u001b[0;34m\u001b[0m\u001b[0m\n\u001b[0;32m--> 547\u001b[0;31m                 \u001b[0;32mraise\u001b[0m \u001b[0mexceptions\u001b[0m\u001b[0;34m.\u001b[0m\u001b[0mRequirelogin\u001b[0m\u001b[0;34m(\u001b[0m\u001b[0mi18n\u001b[0m\u001b[0;34m.\u001b[0m\u001b[0mRequirelogin\u001b[0m\u001b[0;34m)\u001b[0m\u001b[0;34m\u001b[0m\u001b[0;34m\u001b[0m\u001b[0m\n\u001b[0m\u001b[1;32m    548\u001b[0m \u001b[0;34m\u001b[0m\u001b[0m\n\u001b[1;32m    549\u001b[0m         \u001b[0;32mif\u001b[0m \u001b[0mindex_type\u001b[0m \u001b[0;34m==\u001b[0m \u001b[0mdata_type\u001b[0m\u001b[0;34m.\u001b[0m\u001b[0mindex_type\u001b[0m\u001b[0;34m.\u001b[0m\u001b[0mMAIL\u001b[0m\u001b[0;34m:\u001b[0m\u001b[0;34m\u001b[0m\u001b[0;34m\u001b[0m\u001b[0m\n",
      "\u001b[0;31mRequirelogin\u001b[0m: 請先登入"
     ]
    }
   ],
   "source": [
    "def crawl_handler(post_info):\n",
    "\n",
    "    if post_info.delete_status != PTT.data_type.post_delete_status.NOT_DELETED:\n",
    "        if post_info.delete_status == PTT.data_type.post_delete_status.MODERATOR:\n",
    "            print(f'[板主刪除][{post_info.author}]')\n",
    "        elif post_info.delete_status == PTT.data_type.post_delete_status.AUTHOR:\n",
    "            print(f'[作者刪除][{post_info.author}]')\n",
    "        elif post_info.delete_status == PTT.data_type.post_delete_status.UNKNOWN:\n",
    "            print(f'[不明刪除]')\n",
    "        return\n",
    "\n",
    "    print(f'[{post_info.aid}][{post_info.title}]')\n",
    "\n",
    "\n",
    "test_board = 'Gossiping'\n",
    "test_range = 1000\n",
    "\n",
    "newest_index = ptt_bot.get_newest_index(\n",
    "    PTT.data_type.index_type.BBS,\n",
    "    board=test_board\n",
    ")\n",
    "start_index = newest_index - test_range + 1\n",
    "\n",
    "print(f'預備爬行 {test_board} 編號 {start_index} ~ {newest_index} 文章')\n",
    "\n",
    "# start_aid = ptt_bot.get_post_index(test_board, start_index)\n",
    "# end_aid = ptt_bot.get_post_index(test_board, newest_index)\n",
    "\n",
    "error_post_list, del_post_list = ptt_bot.crawl_board(\n",
    "    PTT.data_type.crawl_type.BBS,\n",
    "    crawl_handler,\n",
    "    test_board,\n",
    "    # 使用 index 來標示文章範圍\n",
    "    start_index=start_index,\n",
    "    end_index=newest_index,\n",
    "    # 使用 aid 來標示文章範圍\n",
    "    # Since 0.8.27\n",
    "    # start_aid=start_aid,\n",
    "    # end_aid=end_aid,\n",
    "    # index 與 aid 標示方式擇一即可\n",
    ")\n",
    "\n",
    "if len(error_post_list) > 0:\n",
    "    print('格式錯誤文章: \\n' + '\\n'.join(str(x) for x in error_post_list))\n",
    "else:\n",
    "    print('沒有偵測到格式錯誤文章')\n",
    "\n",
    "if len(del_post_list) > 0:\n",
    "    print(f'共有 {len(del_post_list)} 篇文章被刪除')\n",
    "執行結果"
   ]
  },
  {
   "cell_type": "code",
   "execution_count": null,
   "metadata": {},
   "outputs": [],
   "source": []
  },
  {
   "cell_type": "code",
   "execution_count": 11,
   "metadata": {},
   "outputs": [
    {
     "ename": "Requirelogin",
     "evalue": "請先登入",
     "output_type": "error",
     "traceback": [
      "\u001b[0;31m---------------------------------------------------------------------------\u001b[0m",
      "\u001b[0;31mRequirelogin\u001b[0m                              Traceback (most recent call last)",
      "\u001b[0;32m<ipython-input-11-0e3074d98ee1>\u001b[0m in \u001b[0;36m<module>\u001b[0;34m\u001b[0m\n\u001b[1;32m      1\u001b[0m post_info = ptt_bot.get_post(\n\u001b[1;32m      2\u001b[0m     \u001b[0;34m'Python'\u001b[0m\u001b[0;34m,\u001b[0m\u001b[0;34m\u001b[0m\u001b[0;34m\u001b[0m\u001b[0m\n\u001b[0;32m----> 3\u001b[0;31m     \u001b[0mpost_index\u001b[0m\u001b[0;34m=\u001b[0m\u001b[0;36m7486\u001b[0m\u001b[0;34m\u001b[0m\u001b[0;34m\u001b[0m\u001b[0m\n\u001b[0m\u001b[1;32m      4\u001b[0m )\n",
      "\u001b[0;32m~/opt/anaconda3/lib/python3.7/site-packages/PyPtt/PTT.py\u001b[0m in \u001b[0;36mget_post\u001b[0;34m(self, board, post_aid, post_index, search_type, search_condition, query)\u001b[0m\n\u001b[1;32m    326\u001b[0m \u001b[0;34m\u001b[0m\u001b[0m\n\u001b[1;32m    327\u001b[0m         \u001b[0;32mif\u001b[0m \u001b[0;32mnot\u001b[0m \u001b[0mself\u001b[0m\u001b[0;34m.\u001b[0m\u001b[0m_login_status\u001b[0m\u001b[0;34m:\u001b[0m\u001b[0;34m\u001b[0m\u001b[0;34m\u001b[0m\u001b[0m\n\u001b[0;32m--> 328\u001b[0;31m             \u001b[0;32mraise\u001b[0m \u001b[0mexceptions\u001b[0m\u001b[0;34m.\u001b[0m\u001b[0mRequirelogin\u001b[0m\u001b[0;34m(\u001b[0m\u001b[0mi18n\u001b[0m\u001b[0;34m.\u001b[0m\u001b[0mRequirelogin\u001b[0m\u001b[0;34m)\u001b[0m\u001b[0;34m\u001b[0m\u001b[0;34m\u001b[0m\u001b[0m\n\u001b[0m\u001b[1;32m    329\u001b[0m \u001b[0;34m\u001b[0m\u001b[0m\n\u001b[1;32m    330\u001b[0m         \u001b[0mself\u001b[0m\u001b[0;34m.\u001b[0m\u001b[0mconfig\u001b[0m\u001b[0;34m.\u001b[0m\u001b[0mlog_last_value\u001b[0m \u001b[0;34m=\u001b[0m \u001b[0;32mNone\u001b[0m\u001b[0;34m\u001b[0m\u001b[0;34m\u001b[0m\u001b[0m\n",
      "\u001b[0;31mRequirelogin\u001b[0m: 請先登入"
     ]
    }
   ],
   "source": [
    "post_info = ptt_bot.get_post(\n",
    "    'Python',\n",
    "    post_index=7486\n",
    ")"
   ]
  },
  {
   "cell_type": "code",
   "execution_count": null,
   "metadata": {},
   "outputs": [],
   "source": []
  }
 ],
 "metadata": {
  "kernelspec": {
   "display_name": "Python 3",
   "language": "python",
   "name": "python3"
  },
  "language_info": {
   "codemirror_mode": {
    "name": "ipython",
    "version": 3
   },
   "file_extension": ".py",
   "mimetype": "text/x-python",
   "name": "python",
   "nbconvert_exporter": "python",
   "pygments_lexer": "ipython3",
   "version": "3.7.6"
  }
 },
 "nbformat": 4,
 "nbformat_minor": 4
}
