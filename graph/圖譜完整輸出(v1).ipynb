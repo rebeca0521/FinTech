{
 "cells": [
  {
   "cell_type": "code",
   "execution_count": null,
   "metadata": {},
   "outputs": [],
   "source": [
    "import requests\n",
    "from bs4 import BeautifulSoup\n",
    "from selenium import webdriver\n",
    "from selenium.webdriver.support.ui import WebDriverWait\n",
    "from selenium.webdriver.common.keys import Keys\n",
    "import time\n",
    "import pandas as pd\n",
    "import os\n",
    "import json\n",
    "from fake_useragent import UserAgent\n",
    "import networkx as nx\n",
    "import matplotlib.pyplot as plt\n",
    "import re"
   ]
  },
  {
   "cell_type": "markdown",
   "metadata": {},
   "source": [
    "## 儲存每股股票資訊"
   ]
  },
  {
   "cell_type": "code",
   "execution_count": null,
   "metadata": {},
   "outputs": [],
   "source": [
    "def set_header_user_agent():\n",
    "        user_agent = UserAgent()\n",
    "        return user_agent.random\n",
    "error=[]\n",
    "for keyword in stock_num:\n",
    "    headers = {\"user-agent\": set_header_user_agent()\n",
    "               ,\"accept\": \"text/html,application/xhtml+xml,application/xml;q=0.9,image/webp,image/apng,*/*;q=0.8,application/signed-exchange;v=b3;q=0.9\"\n",
    "               ,\"accept-language\": \"zh-TW,zh;q=0.9,en-US;q=0.8,en;q=0.7\"\n",
    "              }\n",
    "    url = 'https://goodinfo.tw/StockInfo/StockDetail.asp'  # 網域：台灣股市資訊網\n",
    "    count = 0\n",
    "    try:\n",
    "        re = requests.post(url+\"?STOCK_ID=\"+str(keyword), headers = headers)\n",
    "        re.encoding = 'utf-8'  # 設定為charset的編碼格式\n",
    "        soup = BeautifulSoup(re.text, 'html.parser')  # 利用beautifulsoup解析\n",
    "        table = soup.find('table', attrs={'class':'solid_1_padding_3_1_tbl'})  # 觀察css code擷取我們需要的表格資訊\n",
    "        newdf = pd.read_html(str(table))  # 每一個股票代碼會有一個新資訊，並用dataframe形式儲存\n",
    "\n",
    "        From = [keyword]*5\n",
    "        to=[newdf[0][0][2],newdf[0][0][4],newdf[0][5][2],newdf[0][6][2],newdf[0][7][2]]\n",
    "        relation = ['price','volume','opening','highest price','lowest price']\n",
    "        dic = {'From':From,'to':to,'relation':relation}\n",
    "        df = pd.DataFrame(dic,columns=dic.keys())\n",
    "\n",
    "        df.to_csv('/Users/Rebeca/Fintech_中信專案/stock_info/%s.csv' %keyword)\n",
    "    except:\n",
    "        print(url+\"?STOCK_ID=\"+str(keyword))\n",
    "        error.append(keyword)"
   ]
  },
  {
   "cell_type": "markdown",
   "metadata": {},
   "source": [
    "## error處理"
   ]
  },
  {
   "cell_type": "code",
   "execution_count": null,
   "metadata": {},
   "outputs": [],
   "source": [
    "re = requests.post('https://goodinfo.tw/StockInfo/StockDetail.asp?STOCK_ID=3016', headers = headers)\n",
    "re.encoding = 'utf-8'  # 設定為charset的編碼格式\n",
    "soup = BeautifulSoup(re.text, 'html.parser')  # 利用beautifulsoup解析\n",
    "table = soup.find('table', attrs={'class':'solid_1_padding_3_1_tbl'}) "
   ]
  },
  {
   "cell_type": "code",
   "execution_count": null,
   "metadata": {},
   "outputs": [],
   "source": [
    "newdf = pd.read_html(str(table))"
   ]
  },
  {
   "cell_type": "code",
   "execution_count": null,
   "metadata": {},
   "outputs": [],
   "source": [
    "to=[newdf[0][0][2],newdf[0][0][4],newdf[0][5][2],newdf[0][6][2],newdf[0][7][2]]\n",
    "to"
   ]
  },
  {
   "cell_type": "code",
   "execution_count": null,
   "metadata": {},
   "outputs": [],
   "source": [
    "From = ['3016']*5\n",
    "relation = ['price','volume','opening','highest price','lowest price']\n",
    "dic = {'From':From,'to':to,'relation':relation}\n",
    "df = pd.DataFrame(dic,columns=dic.keys())\n",
    "df.to_csv('/Users/Rebeca/Fintech_中信專案/stock_info/3016.csv')"
   ]
  },
  {
   "cell_type": "markdown",
   "metadata": {},
   "source": [
    "## 繪製圖譜"
   ]
  },
  {
   "cell_type": "code",
   "execution_count": null,
   "metadata": {},
   "outputs": [],
   "source": [
    "## 股票相似度csv\n",
    "nodes = pd.read_csv('/Users/Rebeca/Fintech_中信專案/try.csv', header=0)\n",
    "\n",
    "## 缺少查看前五名是哪幾支的步驟（預計查看完存進csv內）\n",
    "## 使用迴圈把前五名股票資訊匯進來合併\n",
    "\n",
    "stock#前五名股票之list\n",
    "\n",
    "## 前五名之各股資訊\n",
    "for i in stock:\n",
    "    if i == stodk[0]:\n",
    "        info=pd.read_csv('/Users/Rebeca/Fintech_中信專案/stock_info/'+i+'.csv',index_col=0)\n",
    "    else:\n",
    "        info = info.append(pd.read_csv('/Users/Rebeca/Fintech_中信專案/stock_info/'+i+'.csv',index_col=0))\n",
    "nodes = nodes.append(info)\n",
    "        \n",
    "nodes.reset_index(drop=True, inplace=True)"
   ]
  },
  {
   "cell_type": "code",
   "execution_count": null,
   "metadata": {},
   "outputs": [],
   "source": [
    "node_dic = {}\n",
    "for i in nodes['From']:\n",
    "    node_dic[i]=[]\n",
    "    for j in nodes[nodes['From']==i]['to']:\n",
    "        node_dic[i].append(j)\n",
    "print(node_dic)"
   ]
  },
  {
   "cell_type": "markdown",
   "metadata": {},
   "source": [
    "## 設定node位置"
   ]
  },
  {
   "cell_type": "code",
   "execution_count": null,
   "metadata": {},
   "outputs": [],
   "source": [
    "keyword ##要查詢的股票\n",
    "\n",
    "layout={}\n",
    "\n",
    "#中心連出去\n",
    "layout[keyword]=[0,0]\n",
    "layout[node_dic[keyword][0]]=[0,0.175] #1234\n",
    "layout[node_dic[keyword][1]]=[0.0875,0.0875]\n",
    "layout[node_dic[keyword][2]]=[0.0875,-0.0875]\n",
    "layout[node_dic[keyword][3]]=[-0.0875,-0.0875]\n",
    "layout[node_dic[keyword][4]]=[-0.0875,0.0875]\n",
    "\n",
    "#第一支相關聯的股票\n",
    "layout[node_dic[node_dic[keyword][0]][0]]=[-0.04,0.25]\n",
    "layout[node_dic[node_dic[keyword][0]][1]]=[-0.025,0.275]\n",
    "layout[node_dic[node_dic[keyword][0]][2]]=[0,0.29]\n",
    "layout[node_dic[node_dic[keyword][0]][3]]=[0.025,0.275]\n",
    "layout[node_dic[node_dic[keyword][0]][4]]=[0.04,0.25]\n",
    "\n",
    "layout[node_dic[node_dic[keyword][1]][0]]=[0.125,0.165]\n",
    "layout[node_dic[node_dic[keyword][1]][1]]=[0.14,0.175]\n",
    "layout[node_dic[node_dic[keyword][1]][2]]=[0.165,0.165]\n",
    "layout[node_dic[node_dic[keyword][1]][3]]=[0.175,0.14]\n",
    "layout[node_dic[node_dic[keyword][1]][4]]=[0.165,0.125]\n",
    "\n",
    "layout[node_dic[node_dic[keyword][2]][0]]=[0.165,-0.125]\n",
    "layout[node_dic[node_dic[keyword][2]][1]]=[0.175,-0.14]\n",
    "layout[node_dic[node_dic[keyword][2]][2]]=[0.165,-0.165]\n",
    "layout[node_dic[node_dic[keyword][2]][3]]=[0.14,-0.175]\n",
    "layout[node_dic[node_dic[keyword][2]][4]]=[0.125,-0.165]\n",
    "\n",
    "layout[node_dic[node_dic[keyword][3]][0]]=[-0.125,0.165]\n",
    "layout[node_dic[node_dic[keyword][3]][1]]=[-0.14,0.175]\n",
    "layout[node_dic[node_dic[keyword][3]][2]]=[-0.165,0.165]\n",
    "layout[node_dic[node_dic[keyword][3]][3]]=[-0.175,0.14]\n",
    "layout[node_dic[node_dic[keyword][3]][4]]=[-0.165,0.125]\n",
    "\n",
    "\n",
    "layout[node_dic[node_dic[keyword][4]][0]]=[-0.165,-0.125]\n",
    "layout[node_dic[node_dic[keyword][4]][1]]=[-0.175,-0.14]\n",
    "layout[node_dic[node_dic[keyword][4]][1]]=[-0.175,-0.14]\n",
    "layout[node_dic[node_dic[keyword][4]][2]]=[-0.165,-0.165]\n",
    "layout[node_dic[node_dic[keyword][4]][3]]=[-0.14,-0.175]\n",
    "layout[node_dic[node_dic[keyword][4]][4]]=[-0.125,-0.165]"
   ]
  },
  {
   "cell_type": "markdown",
   "metadata": {},
   "source": [
    "# 繪圖"
   ]
  },
  {
   "cell_type": "code",
   "execution_count": null,
   "metadata": {},
   "outputs": [],
   "source": [
    "def draw_kg(pairs):\n",
    "    k_graph = nx.from_pandas_edgelist(pairs, 'From', 'to',\n",
    "            create_using=nx.MultiDiGraph())\n",
    "    \n",
    "    node_deg = nx.degree(k_graph)\n",
    "    #layout = nx.spring_layout(k_graph) #nx.spring_layout(k_graph)#, k=0.15, iterations=20)\n",
    "    plt.figure(num=None, figsize=(40, 30))#, dpi=80)\n",
    "\n",
    "    nx.draw_networkx(\n",
    "        k_graph,\n",
    "        node_size=5000,#[int(deg[1]) * 500 for deg in node_deg],\n",
    "        arrowsize=20,\n",
    "        linewidths=1.5,\n",
    "        pos=layout,\n",
    "        edge_color='red',\n",
    "        edgecolors='black',\n",
    "        node_color='white',\n",
    "        font_size=24\n",
    "        )\n",
    "    labels = dict(zip(list(zip(pairs.From, pairs.to)),\n",
    "                  pairs['relation'].tolist()))\n",
    "    nx.draw_networkx_edge_labels(k_graph, pos=lay, edge_labels=labels,font_size=15,\n",
    "                                 font_color='g')\n",
    "    plt.axis('off')\n",
    "    plt.show()"
   ]
  },
  {
   "cell_type": "code",
   "execution_count": null,
   "metadata": {},
   "outputs": [],
   "source": [
    "draw_kg(nodes)"
   ]
  }
 ],
 "metadata": {
  "kernelspec": {
   "display_name": "Python 3",
   "language": "python",
   "name": "python3"
  },
  "language_info": {
   "codemirror_mode": {
    "name": "ipython",
    "version": 3
   },
   "file_extension": ".py",
   "mimetype": "text/x-python",
   "name": "python",
   "nbconvert_exporter": "python",
   "pygments_lexer": "ipython3",
   "version": "3.7.6"
  }
 },
 "nbformat": 4,
 "nbformat_minor": 4
}
